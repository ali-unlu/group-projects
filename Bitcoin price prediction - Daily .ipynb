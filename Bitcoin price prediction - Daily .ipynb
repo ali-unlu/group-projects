{
 "cells": [
  {
   "cell_type": "markdown",
   "id": "7ae021d4",
   "metadata": {},
   "source": [
    "# Bitcoin prediction - Daily\n",
    "\n",
    "This is a group project that we are still working on and testing the impact of parameters. \n"
   ]
  },
  {
   "cell_type": "code",
   "execution_count": null,
   "id": "f310c59f",
   "metadata": {},
   "outputs": [],
   "source": [
    "import datetime\n",
    "from datetime import datetime, timezone\n",
    "import datetime as dt\n",
    "import numpy as np\n",
    "\n",
    "import pandas as pd\n",
    "import requests\n",
    "\n",
    "\n",
    "\n",
    "import matplotlib.pyplot as plt\n",
    "import warnings\n",
    "warnings.simplefilter(action='ignore')\n",
    "\n",
    "\n",
    "\n",
    "from sklearn.model_selection import train_test_split\n",
    "\n",
    "import seaborn as sns\n",
    "\n",
    "import tensorflow as tf\n",
    "import keras\n",
    "\n",
    "\n",
    "from keras.models import Sequential, load_model\n",
    "from keras.layers import Activation, Dense, LSTM, Dropout, GlobalMaxPooling1D, SimpleRNN\n",
    "from keras.callbacks import ModelCheckpoint, EarlyStopping\n",
    "\n",
    "\n",
    "\n",
    "import math\n",
    "from sklearn.preprocessing import MinMaxScaler\n",
    "from sklearn.metrics import mean_squared_error\n",
    "\n",
    "\n"
   ]
  },
  {
   "cell_type": "markdown",
   "id": "1930f704",
   "metadata": {},
   "source": [
    "## Date processing"
   ]
  },
  {
   "cell_type": "code",
   "execution_count": 2,
   "id": "1b54f73e",
   "metadata": {},
   "outputs": [
    {
     "name": "stdout",
     "output_type": "stream",
     "text": [
      "Please add 1 hour to the `to` input to make sure that you always get data for the end date as well.\n",
      "Enter a start date in YYYY-MM-DD-H-M (2021-12-27-14-41) format: 2020-01-01-12-00\n",
      "Enter a end date in YYYY-MM-DD-H-M (2021-12-27-14-41) format: 2022-01-18-12-00\n"
     ]
    }
   ],
   "source": [
    "#Date input from user\n",
    "print(\"Please add 1 hour to the `to` input to make sure that you always get data for the end date as well.\")\n",
    "\n",
    "start_date = str(input('Enter a start date in YYYY-MM-DD-H-M (2021-12-27-14-41) format: '))\n",
    "end_date = str(input('Enter a end date in YYYY-MM-DD-H-M (2021-12-27-14-41) format: '))"
   ]
  },
  {
   "cell_type": "markdown",
   "id": "0a8be475",
   "metadata": {},
   "source": [
    "# Data preprocessing\n"
   ]
  },
  {
   "cell_type": "code",
   "execution_count": 3,
   "id": "27375090",
   "metadata": {},
   "outputs": [],
   "source": [
    "def get_bitcoin_data_df(start_date, end_date):\n",
    "\n",
    "    print( \"the bitcoin data between {} and {} dates is being obtained\".format(start_date,end_date))\n",
    "\n",
    "    #Converting the entered date data to datetime format\n",
    "    start_date_timestamp = datetime.strptime(start_date, \"%Y-%m-%d-%H-%M\")\n",
    "    end_date_timestamp = datetime.strptime(end_date, \"%Y-%m-%d-%H-%M\")\n",
    "\n",
    "    #Converting the entered date information to timestamp\n",
    "    timestamp1 = start_date_timestamp.replace(tzinfo=timezone.utc).timestamp()\n",
    "    timestamp2 = end_date_timestamp.replace(tzinfo=timezone.utc).timestamp()\n",
    "    \n",
    "    #Getting the needed data from CoinGecko’s public API \n",
    "    url = \"https://api.coingecko.com/api/v3/coins/bitcoin/market_chart/range?vs_currency=eur&from={}&to={}\".format(timestamp1,timestamp2)\n",
    "    req = requests.get(url=url)\n",
    "    json=req.json()\n",
    "    \n",
    "    #Converting json data to dataframe\n",
    "    df1 = pd.DataFrame(json['prices'],columns=[\"time\",\"prices\"])\n",
    "    df2 = pd.DataFrame(json['market_caps'],columns=[\"time\",\"market_caps\"])\n",
    "    df3 = pd.DataFrame(json['total_volumes'],columns=[\"time\",\"total_volumes\"])\n",
    "    df=df1.merge(df2, how='left', on='time')\n",
    "    df=df.merge(df3, how='left', on='time')\n",
    "    \n",
    "    #Converting timestamp information of time column to datetime format\n",
    "    timestamp=df[\"time\"].tolist()  \n",
    "    time=[]\n",
    "    for i in timestamp: \n",
    "        i=int(str(i)[:10])\n",
    "        date = dt.datetime.utcfromtimestamp(i)\n",
    "        time.append(date)\n",
    "    df[\"time\"]=time\n",
    "    \n",
    "    #Indexing the time column\n",
    "    df.set_index('time', inplace=True)\n",
    "    \n",
    "    #Selecting data at 00:00 UTC from hourly data, when given a date range of 1 to 90 days\n",
    "    df=df[(df.index.hour ==0 )]\n",
    "    \n",
    "    return df\n"
   ]
  },
  {
   "cell_type": "code",
   "execution_count": 4,
   "id": "e482cb69",
   "metadata": {},
   "outputs": [
    {
     "name": "stdout",
     "output_type": "stream",
     "text": [
      "the bitcoin data between 2020-01-01-12-00 and 2022-01-18-12-00 dates is being obtained\n",
      "\n",
      "                  prices   market_caps  total_volumes\n",
      "time                                                \n",
      "2020-01-02  6412.448167  1.162156e+11   1.615514e+10\n",
      "2020-01-03  6234.201691  1.130466e+11   1.818484e+10\n",
      "2020-01-04  6541.826288  1.189716e+11   2.779318e+10\n",
      "2020-01-05  6587.554275  1.196064e+11   1.847005e+10\n",
      "2020-01-06  6585.067986  1.194593e+11   1.964707e+10\n",
      "\n",
      " ---------------------\n",
      "\n",
      "                  prices   market_caps  total_volumes\n",
      "time                                                 \n",
      "2022-01-14  37184.998544  7.038541e+11   3.831720e+10\n",
      "2022-01-15  37774.601606  7.149432e+11   1.772911e+10\n",
      "2022-01-16  37867.280489  7.155310e+11   1.283453e+10\n",
      "2022-01-17  37793.204220  7.154849e+11   1.266705e+10\n",
      "2022-01-18  37075.172762  7.019731e+11   1.550989e+10\n"
     ]
    }
   ],
   "source": [
    "# Data\n",
    "df=get_bitcoin_data_df(start_date, end_date)\n",
    "print('\\n', df.head())\n",
    "\n",
    "print('\\n ---------------------\\n')\n",
    "\n",
    "print(df.tail())"
   ]
  },
  {
   "cell_type": "markdown",
   "id": "d54634ae",
   "metadata": {},
   "source": [
    "# Data visualization"
   ]
  },
  {
   "cell_type": "code",
   "execution_count": 5,
   "id": "ab3fb9ad",
   "metadata": {},
   "outputs": [],
   "source": [
    "def get_n_last_days(df, n_days):\n",
    "    \"\"\"\n",
    "    Extract last n_days \n",
    "    \"\"\"\n",
    "    \n",
    "    return df['prices'][- n_days:] \n",
    "\n",
    "def plot_n_last_days(df, n_days):\n",
    "    \"\"\"\n",
    "    Plot last n_days\n",
    "    \"\"\"\n",
    "    plt.figure(figsize = (10,5))   \n",
    "    plt.plot(get_n_last_days(df,  n_days), 'k-') # call the previous function\n",
    "    plt.title('Bitcoin Prices, last - {} days'\n",
    "              .format( n_days))\n",
    "    plt.xlabel('Recorded daily')\n",
    "    plt.ylabel('Reading')\n",
    "    plt.grid(alpha=0.3)"
   ]
  },
  {
   "cell_type": "code",
   "execution_count": 6,
   "id": "8b1b2fcd",
   "metadata": {},
   "outputs": [
    {
     "data": {
      "image/png": "[encoded data removed]",
      "text/plain": [
       "<Figure size 720x360 with 1 Axes>"
      ]
     },
     "metadata": {
      "needs_background": "light"
     },
     "output_type": "display_data"
    }
   ],
   "source": [
    "plot_n_last_days(df, 240)\n"
   ]
  },
  {
   "cell_type": "markdown",
   "id": "8da42f8b",
   "metadata": {},
   "source": [
    "### A. How many days is the longest bearish (downward) trend within a given date range?\n"
   ]
  },
  {
   "cell_type": "code",
   "execution_count": 7,
   "id": "65ffee77",
   "metadata": {},
   "outputs": [],
   "source": [
    "#A. How many days is the longest bearish (downward) trend within a given date range?\n",
    "\n",
    "def show_downward_trend(df):\n",
    "    \n",
    "    prices=df[\"prices\"].tolist()\n",
    "    amount_of_days=0 \n",
    "    trends=[]\n",
    "    i=0\n",
    "    while i+1<len(prices):\n",
    "        if prices[i]>prices[i+1]:\n",
    "            amount_of_days=amount_of_days+1\n",
    "            trends.append(amount_of_days)\n",
    "        else:            \n",
    "            amount_of_days=0\n",
    "        i=i+1\n",
    "    \n",
    "    print(\"inputs from {} and to {}, and the price decreased for {} days in a row \".format(start_date,end_date,max(trends)))"
   ]
  },
  {
   "cell_type": "code",
   "execution_count": 8,
   "id": "7f71b16e",
   "metadata": {},
   "outputs": [
    {
     "name": "stdout",
     "output_type": "stream",
     "text": [
      "inputs from 2020-01-01-12-00 and to 2022-01-18-12-00, and the price decreased for 8 days in a row \n"
     ]
    }
   ],
   "source": [
    "show_downward_trend(df)\n"
   ]
  },
  {
   "cell_type": "markdown",
   "id": "782e911e",
   "metadata": {},
   "source": [
    "### B. Which date within a given date range had the highest trading volume?\n"
   ]
  },
  {
   "cell_type": "code",
   "execution_count": 9,
   "id": "7aa203fc",
   "metadata": {},
   "outputs": [
    {
     "name": "stdout",
     "output_type": "stream",
     "text": [
      "in the date of 2021-01-04 00:00:00 the highest trading volume is 146032480261.85092 euro\n"
     ]
    }
   ],
   "source": [
    "# Access to the maximum value of the total volumes variable and the date of this value\n",
    "\n",
    "place_of_max= df[\"total_volumes\"].idxmax()\n",
    "maximum= df[\"total_volumes\"].max()\n",
    "\n",
    "print(\"in the date of {} the highest trading volume is {} euro\".format(place_of_max,maximum))"
   ]
  },
  {
   "cell_type": "markdown",
   "id": "f2604f11",
   "metadata": {},
   "source": [
    "### C. Best buying time in the past\n",
    "\n",
    "C. Scrooge has access to Gyro Gearloose’s newest invention, a time machine. Scrooge wants to use the time machine to profit from bitcoin. The application should be able to tell for a given date range, the best day for buying bitcoin, and the best day for selling the bought bitcoin to maximize profits. If the price only decreases in the date range, your output should indicate that one should not buy (nor sell) bitcoin on any of the days. You don't have to consider any side effects of time travel or how Scrooge's massive purchases would affect the price history."
   ]
  },
  {
   "cell_type": "code",
   "execution_count": 10,
   "id": "231bf3fd",
   "metadata": {},
   "outputs": [],
   "source": [
    "def show_buy_sell(df):\n",
    "    prices=df[\"prices\"]\n",
    "    prices=prices.tolist()\n",
    "    list_of_profits=[]  \n",
    "    \n",
    "    # Finding the largest profit\n",
    "    for i in range(0, len(prices)-1):\n",
    "        for j in range(0, len(prices)-1):\n",
    "            profit= prices[len(prices)-1-j]-prices[i]\n",
    "            list_of_profits.extend([[profit,len(prices)-1-j, i]])     # Assigning indexes to the list with profit\n",
    "            list_of_profits_df=pd.DataFrame(list_of_profits,columns=[\"profit\",\"sell\", \"buy\"])  #Converting the list with profit and index information into list_of_profits dataframe\n",
    "\n",
    "    list_of_profits_final=list_of_profits_df.iloc[list_of_profits_df[\"profit\"].idxmax()]  #identifying the row with the largest profit\n",
    "\n",
    "    final=df[\"prices\"].reset_index()   # Converting dates from index to variables\n",
    "    if list_of_profits_final[\"profit\"]<=0:    \n",
    "        print(\"no profit\")     # The situation of no profit between the dates of continuous decline in bitcoin\n",
    "    else:\n",
    "        # Accessing the date information using the index information on the largest profitable line\n",
    "        print(\"buy time : {} , sell time : {}\".format(final[\"time\"][list_of_profits_final[\"buy\"]],final[\"time\"][list_of_profits_final[\"sell\"]]))\n"
   ]
  },
  {
   "cell_type": "code",
   "execution_count": 12,
   "id": "3c9cc637",
   "metadata": {},
   "outputs": [],
   "source": [
    "# show the best time\n",
    "show_buy_sell(df)"
   ]
  },
  {
   "cell_type": "markdown",
   "id": "82d709d6",
   "metadata": {},
   "source": [
    "# Structuring data "
   ]
  },
  {
   "cell_type": "code",
   "execution_count": 13,
   "id": "7cae0b7e",
   "metadata": {},
   "outputs": [],
   "source": [
    "def get_keras_format_series(series): \n",
    "    \"\"\"\n",
    "    Convert a series to a numpy array of shape \n",
    "    [n_samples, time_steps, features]\n",
    "    \"\"\"\n",
    "    \n",
    "    series = np.array(series)\n",
    "    return series.reshape(series.shape[0], series.shape[1], 1) \n",
    "\n",
    "def get_train_test_data(df, series_days, input_days, \n",
    "                        test_days, sample_gap=1): \n",
    "    \"\"\"\n",
    "    Utility processing function that splits a daily time series into \n",
    "    train and test with keras-friendly format, according to user-specified\n",
    "    choice of shape.    \n",
    "    \n",
    "    arguments\n",
    "    ---------\n",
    "    df (dataframe): dataframe with time series columns\n",
    "    series_name (string): column name in df\n",
    "    series_days (int): total days to extract\n",
    "    input_day (int): length of sequence input to network \n",
    "    test_days (int): length of held-out terminal sequence\n",
    "    sample_gap (int): step size between start of train sequences; default 5\n",
    "    \n",
    "    returns\n",
    "    ---------\n",
    "    tuple: train_X, test_X_init, train_y, test_y     \n",
    "    \"\"\"\n",
    "    \n",
    "    forecast_series = get_n_last_days(df, series_days).values # reducing our forecast series to last n days\n",
    "\n",
    "    train = forecast_series[:-test_days] # training data is remaining days until amount of test_days\n",
    "    test = forecast_series[-test_days:] # test data is the remaining test_days\n",
    "\n",
    "    train_X, train_y = [], []\n",
    "\n",
    "    # range 0 through # of train samples - input_daily by sample_gap. \n",
    "    # This is to create many samples with corresponding\n",
    "    for i in range(0, train.shape[0]-input_days, sample_gap): # remove the input day and pick each sample day\n",
    "        train_X.append(train[i:i+input_days]) # each training sample is of length input daily\n",
    "        train_y.append(train[i+input_days]) # each y is just the next step after training sample\n",
    "\n",
    "    train_X = get_keras_format_series(train_X) # format our new training set to keras format\n",
    "    train_y = np.array(train_y) # make sure y is an array to work properly with keras\n",
    "    \n",
    "    # The set that we had held out for testing (must be same length as original train input)\n",
    "    test_X_init = test[:input_days] \n",
    "    test_y = test[input_days:] # test_y is remaining values from test set\n",
    "    \n",
    "    return train_X, test_X_init, train_y, test_y"
   ]
  },
  {
   "cell_type": "markdown",
   "id": "7aec190c",
   "metadata": {},
   "source": [
    "# Basic LSTM Model"
   ]
  },
  {
   "cell_type": "code",
   "execution_count": 14,
   "id": "215033fa",
   "metadata": {},
   "outputs": [],
   "source": [
    " def fit_LSTM(train_X, train_y, cell_units, epochs):\n",
    "    \"\"\"\n",
    "    Fit LSTM to data train_X, train_y \n",
    "    \n",
    "    arguments\n",
    "    ---------\n",
    "    train_X (array): input sequence samples for training \n",
    "    train_y (list): next step in sequence targets\n",
    "    cell_units (int): number of hidden units for LSTM cells  \n",
    "    epochs (int): number of training epochs   \n",
    "    \"\"\"\n",
    "    \n",
    "    # initialize model\n",
    "    model = Sequential() \n",
    "    \n",
    "    # construct a LSTM layer with specified number of hidden units\n",
    "    # per cell and desired sequence input format \n",
    "    model.add(LSTM(cell_units, input_shape=(train_X.shape[1],1)))\n",
    "\n",
    "\n",
    "    \n",
    "    # add an output layer to make final predictions\n",
    "    model.add(Dense(1))\n",
    "    \n",
    "    # define the loss function / optimization strategy, and fit\n",
    "    # the model with the desired number of passes over the data (epochs) \n",
    "    model.compile(loss='mean_squared_error', optimizer='adam')\n",
    "    model.fit(train_X, train_y, epochs=epochs, batch_size=32, verbose=0)\n",
    "    \n",
    "    return model"
   ]
  },
  {
   "cell_type": "markdown",
   "id": "bb2b124a",
   "metadata": {},
   "source": [
    "### Prediction and plot "
   ]
  },
  {
   "cell_type": "code",
   "execution_count": 15,
   "id": "122749d4",
   "metadata": {},
   "outputs": [],
   "source": [
    "def predict(X_init, n_steps, model):\n",
    "    \"\"\"\n",
    "    Given an input series matching the model's expected format,\n",
    "    generates model's predictions for next n_steps in the series      \n",
    "    \"\"\"\n",
    "    \n",
    "    X_init = X_init.copy().reshape(1,-1,1)\n",
    "    preds = []\n",
    "    \n",
    "    # iteratively take current input sequence, generate next step pred,\n",
    "    # and shift input sequence forward by a step (to end with latest pred).\n",
    "    # collect preds as we go.\n",
    "    for _ in range(n_steps):\n",
    "        pred = model.predict(X_init)\n",
    "        preds.append(pred)\n",
    "        X_init[:,:-1,:] = X_init[:,1:,:] # replace first 11 values with 2nd through 12th\n",
    "        X_init[:,-1,:] = pred # replace 12th value with prediction\n",
    "    \n",
    "    preds = np.array(preds).reshape(-1,1)\n",
    "    \n",
    "    return preds\n",
    "\n",
    "def predict_and_plot(X_init, y, model, title):\n",
    "    \"\"\"\n",
    "    Given an input series matching the model's expected format,\n",
    "    generates model's predictions for next n_steps in the series,\n",
    "    and plots these predictions against the ground truth for those steps \n",
    "    \n",
    "    arguments\n",
    "    ---------\n",
    "    X_init (array): initial sequence, must match model's input shape\n",
    "    y (array): true sequence values to predict, follow X_init\n",
    "    model (keras.models.Sequential): trained neural network\n",
    "    title (string): plot title   \n",
    "    \"\"\"\n",
    "    \n",
    "    y_preds = predict(test_X_init, n_steps=len(y), model=model) # predict through length of y\n",
    "    # Below ranges are to set x-axes\n",
    "    start_range = range(1, test_X_init.shape[0]+1) #starting at one through to length of test_X_init to plot X_init\n",
    "    predict_range = range(test_X_init.shape[0], test_days)  #predict range is going to be from end of X_init to length of test_days\n",
    "    \n",
    "    #using our ranges we plot X_init\n",
    "    plt.plot(start_range, test_X_init)\n",
    "    #and test and actual preds\n",
    "    plt.plot(predict_range, test_y, color='orange')\n",
    "    plt.plot(predict_range, y_preds, color='teal', linestyle='--')\n",
    "    \n",
    "    plt.title(title)\n",
    "    plt.legend(['Initial Series','Target Series','Predictions'])"
   ]
  },
  {
   "cell_type": "code",
   "execution_count": 24,
   "id": "6db6ed5a",
   "metadata": {},
   "outputs": [],
   "source": [
    "series_days = 1000\n",
    "input_days = 30\n",
    "test_days = 60\n",
    "\n",
    "train_X, test_X_init, train_y, test_y = \\\n",
    "    (get_train_test_data(df, series_days, \n",
    "                         input_days, test_days))\n",
    "\n"
   ]
  },
  {
   "cell_type": "code",
   "execution_count": 25,
   "id": "a8f42014",
   "metadata": {},
   "outputs": [
    {
     "name": "stdout",
     "output_type": "stream",
     "text": [
      "Training input shape: (658, 30, 1)\n",
      "Training output shape: (658,)\n",
      "Test input shape: (30,)\n",
      "Test output shape: (30,)\n"
     ]
    }
   ],
   "source": [
    "print('Training input shape: {}'.format(train_X.shape))\n",
    "print('Training output shape: {}'.format(train_y.shape))\n",
    "print('Test input shape: {}'.format(test_X_init.shape))\n",
    "print('Test output shape: {}'.format(test_y.shape))"
   ]
  },
  {
   "cell_type": "code",
   "execution_count": 26,
   "id": "7e6e090e",
   "metadata": {},
   "outputs": [
    {
     "name": "stderr",
     "output_type": "stream",
     "text": [
      "2022-01-19 21:31:34.844188: I tensorflow/core/platform/cpu_feature_guard.cc:151] This TensorFlow binary is optimized with oneAPI Deep Neural Network Library (oneDNN) to use the following CPU instructions in performance-critical operations:  AVX2 FMA\n",
      "To enable them in other operations, rebuild TensorFlow with the appropriate compiler flags.\n"
     ]
    },
    {
     "data": {
      "image/png": "[encoded data removed]",
      "text/plain": [
       "<Figure size 432x288 with 1 Axes>"
      ]
     },
     "metadata": {
      "needs_background": "light"
     },
     "output_type": "display_data"
    }
   ],
   "source": [
    "model = fit_LSTM(train_X, train_y, cell_units=30,  epochs=50) \n",
    "\n",
    "predict_and_plot(test_X_init, test_y, model, \n",
    "                 'Bitcoin price: Test Data and LSTM Predictions')"
   ]
  },
  {
   "cell_type": "markdown",
   "id": "5e4fc755",
   "metadata": {},
   "source": [
    "# LSTM model II"
   ]
  },
  {
   "cell_type": "code",
   "execution_count": 106,
   "id": "336b32de",
   "metadata": {},
   "outputs": [],
   "source": [
    "def fit_LSTM(train_X, train_y, cell_units, cell_units_l2,cell_units_l3, cell_units_l4, cell_units_l5, epochs):\n",
    "    \"\"\"\n",
    "    Fit LSTM to data train_X, train_y \n",
    "    \n",
    "    arguments\n",
    "    ---------\n",
    "    train_X (array): input sequence samples for training \n",
    "    train_y (list): next step in sequence targets\n",
    "    cell_units (int): number of hidden units for LSTM cells  \n",
    "    epochs (int): number of training epochs   \n",
    "    \"\"\"\n",
    "    \n",
    "    # initialize model\n",
    "    model = Sequential() \n",
    "    \n",
    "    # construct a LSTM layer with specified number of hidden units\n",
    "    # per cell and desired sequence input format \n",
    "    model.add(LSTM(cell_units, input_shape=(train_X.shape[1],1),return_sequences= True))\n",
    "    model.add(LSTM(cell_units_l2, input_shape=(train_X.shape[1],1), return_sequences= True))\n",
    "    model.add(LSTM(cell_units_l3, input_shape=(train_X.shape[1],1), return_sequences= True))\n",
    "    model.add(LSTM(cell_units_l4, input_shape=(train_X.shape[1],1), return_sequences= True))\n",
    "    model.add(LSTM(cell_units_l5, input_shape=(train_X.shape[1],1)))\n",
    "\n",
    "    \n",
    "    # add an output layer to make final predictions\n",
    "    # we change the activation function here\n",
    "    model.add(Dense(1, activation='softmax'))\n",
    "    \n",
    "    # define the loss function / optimization strategy, and fit\n",
    "    # the model with the desired number of passes over the data (epochs) \n",
    "    model.compile(loss='mean_squared_error', optimizer='adam')\n",
    "    model.fit(train_X, train_y, epochs=epochs, batch_size=20, verbose=1)\n",
    "    \n",
    "    \n",
    "    return model"
   ]
  },
  {
   "cell_type": "code",
   "execution_count": 107,
   "id": "4ac335f4",
   "metadata": {},
   "outputs": [],
   "source": [
    "series_days = 1400 \n",
    "input_days = 60\n",
    "test_days = 120\n",
    "\n",
    "train_X, test_X_init, train_y, test_y = \\\n",
    "    (get_train_test_data(df, series_days, \n",
    "                         input_days, test_days))\n"
   ]
  },
  {
   "cell_type": "code",
   "execution_count": 108,
   "id": "00f26a27",
   "metadata": {},
   "outputs": [
    {
     "name": "stdout",
     "output_type": "stream",
     "text": [
      "Training input shape: (568, 60, 1)\n",
      "Training output shape: (568,)\n",
      "Test input shape: (60,)\n",
      "Test output shape: (60,)\n"
     ]
    }
   ],
   "source": [
    "print('Training input shape: {}'.format(train_X.shape))\n",
    "print('Training output shape: {}'.format(train_y.shape))\n",
    "print('Test input shape: {}'.format(test_X_init.shape))\n",
    "print('Test output shape: {}'.format(test_y.shape))"
   ]
  },
  {
   "cell_type": "code",
   "execution_count": 109,
   "id": "1f6f5a6d",
   "metadata": {},
   "outputs": [
    {
     "name": "stdout",
     "output_type": "stream",
     "text": [
      "Epoch 1/30\n",
      "29/29 [==============================] - 7s 64ms/step - loss: 731445120.0000\n",
      "Epoch 2/30\n",
      "29/29 [==============================] - 2s 63ms/step - loss: 731444864.0000\n",
      "Epoch 3/30\n",
      "29/29 [==============================] - 2s 63ms/step - loss: 731444800.0000\n",
      "Epoch 4/30\n",
      "29/29 [==============================] - 2s 63ms/step - loss: 731444928.0000\n",
      "Epoch 5/30\n",
      "29/29 [==============================] - 2s 61ms/step - loss: 731444736.0000\n",
      "Epoch 6/30\n",
      "29/29 [==============================] - 2s 61ms/step - loss: 731444864.0000\n",
      "Epoch 7/30\n",
      "29/29 [==============================] - 2s 62ms/step - loss: 731444864.0000\n",
      "Epoch 8/30\n",
      "29/29 [==============================] - 2s 65ms/step - loss: 731444800.0000\n",
      "Epoch 9/30\n",
      "29/29 [==============================] - 2s 66ms/step - loss: 731444992.0000\n",
      "Epoch 10/30\n",
      "29/29 [==============================] - 2s 64ms/step - loss: 731444992.0000\n",
      "Epoch 11/30\n",
      "29/29 [==============================] - 2s 64ms/step - loss: 731444992.0000\n",
      "Epoch 12/30\n",
      "29/29 [==============================] - 2s 62ms/step - loss: 731444992.0000\n",
      "Epoch 13/30\n",
      "29/29 [==============================] - 2s 62ms/step - loss: 731444928.0000\n",
      "Epoch 14/30\n",
      "29/29 [==============================] - 2s 64ms/step - loss: 731444864.0000\n",
      "Epoch 15/30\n",
      "29/29 [==============================] - 2s 63ms/step - loss: 731444864.0000\n",
      "Epoch 16/30\n",
      "29/29 [==============================] - 2s 66ms/step - loss: 731444928.0000\n",
      "Epoch 17/30\n",
      "29/29 [==============================] - 2s 64ms/step - loss: 731444864.0000\n",
      "Epoch 18/30\n",
      "29/29 [==============================] - 2s 62ms/step - loss: 731444800.0000\n",
      "Epoch 19/30\n",
      "29/29 [==============================] - 2s 62ms/step - loss: 731444992.0000\n",
      "Epoch 20/30\n",
      "29/29 [==============================] - 2s 64ms/step - loss: 731444928.0000\n",
      "Epoch 21/30\n",
      "29/29 [==============================] - 2s 74ms/step - loss: 731444992.0000\n",
      "Epoch 22/30\n",
      "29/29 [==============================] - 2s 67ms/step - loss: 731444928.0000\n",
      "Epoch 23/30\n",
      "29/29 [==============================] - 2s 62ms/step - loss: 731444992.0000\n",
      "Epoch 24/30\n",
      "29/29 [==============================] - 2s 62ms/step - loss: 731444800.0000\n",
      "Epoch 25/30\n",
      "29/29 [==============================] - 2s 64ms/step - loss: 731444800.0000\n",
      "Epoch 26/30\n",
      "29/29 [==============================] - 2s 62ms/step - loss: 731444800.0000\n",
      "Epoch 27/30\n",
      "29/29 [==============================] - 2s 63ms/step - loss: 731444928.0000\n",
      "Epoch 28/30\n",
      "29/29 [==============================] - 2s 62ms/step - loss: 731444928.0000\n",
      "Epoch 29/30\n",
      "29/29 [==============================] - 2s 62ms/step - loss: 731444992.0000\n",
      "Epoch 30/30\n",
      "29/29 [==============================] - 2s 72ms/step - loss: 731444864.0000\n"
     ]
    },
    {
     "data": {
      "image/png": "[encoded data removed]",
      "text/plain": [
       "<Figure size 432x288 with 1 Axes>"
      ]
     },
     "metadata": {
      "needs_background": "light"
     },
     "output_type": "display_data"
    }
   ],
   "source": [
    "\n",
    "model = fit_LSTM(train_X, train_y, cell_units=55,cell_units_l2=45, cell_units_l3=35,cell_units_l4=25, cell_units_l5=15, epochs=30) \n",
    "\n",
    "predict_and_plot(test_X_init, test_y, model, \n",
    "                 'Bitcoin Price: Test Data and LSTM Predictions')"
   ]
  },
  {
   "cell_type": "markdown",
   "id": "a82009dd",
   "metadata": {},
   "source": [
    "# LSTM Model III"
   ]
  },
  {
   "cell_type": "code",
   "execution_count": 112,
   "id": "ffdc4224",
   "metadata": {},
   "outputs": [
    {
     "name": "stdout",
     "output_type": "stream",
     "text": [
      "Epoch 1/50\n",
      "19/19 [==============================] - 8s 76ms/step - loss: 731444864.0000 - accuracy: 0.0000e+00\n",
      "Epoch 2/50\n",
      "19/19 [==============================] - 1s 72ms/step - loss: 731444992.0000 - accuracy: 0.0000e+00\n",
      "Epoch 3/50\n",
      "19/19 [==============================] - 1s 74ms/step - loss: 731444736.0000 - accuracy: 0.0000e+00\n",
      "Epoch 4/50\n",
      "19/19 [==============================] - 1s 78ms/step - loss: 731444928.0000 - accuracy: 0.0000e+00\n",
      "Epoch 5/50\n",
      "19/19 [==============================] - 1s 77ms/step - loss: 731444864.0000 - accuracy: 0.0000e+00\n",
      "Epoch 6/50\n",
      "19/19 [==============================] - 1s 75ms/step - loss: 731444928.0000 - accuracy: 0.0000e+00\n",
      "Epoch 7/50\n",
      "19/19 [==============================] - 1s 74ms/step - loss: 731444864.0000 - accuracy: 0.0000e+00\n",
      "Epoch 8/50\n",
      "19/19 [==============================] - 1s 75ms/step - loss: 731444864.0000 - accuracy: 0.0000e+00\n",
      "Epoch 9/50\n",
      "19/19 [==============================] - 1s 76ms/step - loss: 731444864.0000 - accuracy: 0.0000e+00\n",
      "Epoch 10/50\n",
      "19/19 [==============================] - 1s 77ms/step - loss: 731444928.0000 - accuracy: 0.0000e+00\n",
      "Epoch 11/50\n",
      "19/19 [==============================] - 1s 75ms/step - loss: 731444928.0000 - accuracy: 0.0000e+00\n",
      "Epoch 12/50\n",
      "19/19 [==============================] - 2s 86ms/step - loss: 731444864.0000 - accuracy: 0.0000e+00\n",
      "Epoch 13/50\n",
      "19/19 [==============================] - 2s 86ms/step - loss: 731444864.0000 - accuracy: 0.0000e+00\n",
      "Epoch 14/50\n",
      "19/19 [==============================] - 1s 75ms/step - loss: 731444864.0000 - accuracy: 0.0000e+00\n",
      "Epoch 15/50\n",
      "19/19 [==============================] - 1s 74ms/step - loss: 731444864.0000 - accuracy: 0.0000e+00\n",
      "Epoch 16/50\n",
      "19/19 [==============================] - 1s 75ms/step - loss: 731444864.0000 - accuracy: 0.0000e+00\n",
      "Epoch 17/50\n",
      "19/19 [==============================] - 1s 74ms/step - loss: 731444800.0000 - accuracy: 0.0000e+00\n",
      "Epoch 18/50\n",
      "19/19 [==============================] - 2s 81ms/step - loss: 731444928.0000 - accuracy: 0.0000e+00\n",
      "Epoch 19/50\n",
      "19/19 [==============================] - 2s 78ms/step - loss: 731444800.0000 - accuracy: 0.0000e+00\n",
      "Epoch 20/50\n",
      "19/19 [==============================] - 2s 79ms/step - loss: 731444928.0000 - accuracy: 0.0000e+00\n",
      "Epoch 21/50\n",
      "19/19 [==============================] - 2s 81ms/step - loss: 731444864.0000 - accuracy: 0.0000e+00\n",
      "Epoch 22/50\n",
      "19/19 [==============================] - 1s 76ms/step - loss: 731444800.0000 - accuracy: 0.0000e+00\n",
      "Epoch 23/50\n",
      "19/19 [==============================] - 1s 73ms/step - loss: 731444928.0000 - accuracy: 0.0000e+00\n",
      "Epoch 24/50\n",
      "19/19 [==============================] - 1s 78ms/step - loss: 731444864.0000 - accuracy: 0.0000e+00\n",
      "Epoch 25/50\n",
      "19/19 [==============================] - 1s 73ms/step - loss: 731444928.0000 - accuracy: 0.0000e+00\n",
      "Epoch 26/50\n",
      "19/19 [==============================] - 2s 83ms/step - loss: 731444864.0000 - accuracy: 0.0000e+00\n",
      "Epoch 27/50\n",
      "19/19 [==============================] - 1s 74ms/step - loss: 731444864.0000 - accuracy: 0.0000e+00\n",
      "Epoch 28/50\n",
      "19/19 [==============================] - 1s 79ms/step - loss: 731444928.0000 - accuracy: 0.0000e+00\n",
      "Epoch 29/50\n",
      "19/19 [==============================] - 2s 79ms/step - loss: 731444928.0000 - accuracy: 0.0000e+00\n",
      "Epoch 30/50\n",
      "19/19 [==============================] - 1s 73ms/step - loss: 731444928.0000 - accuracy: 0.0000e+00\n",
      "Epoch 31/50\n",
      "19/19 [==============================] - 1s 73ms/step - loss: 731444928.0000 - accuracy: 0.0000e+00\n",
      "Epoch 32/50\n",
      "19/19 [==============================] - 1s 73ms/step - loss: 731444864.0000 - accuracy: 0.0000e+00\n",
      "Epoch 33/50\n",
      "19/19 [==============================] - 1s 73ms/step - loss: 731444864.0000 - accuracy: 0.0000e+00\n",
      "Epoch 34/50\n",
      "19/19 [==============================] - 1s 74ms/step - loss: 731444928.0000 - accuracy: 0.0000e+00\n",
      "Epoch 35/50\n",
      "19/19 [==============================] - 2s 87ms/step - loss: 731444992.0000 - accuracy: 0.0000e+00\n",
      "Epoch 36/50\n",
      "19/19 [==============================] - 2s 90ms/step - loss: 731444864.0000 - accuracy: 0.0000e+00\n",
      "Epoch 37/50\n",
      "19/19 [==============================] - 2s 80ms/step - loss: 731444928.0000 - accuracy: 0.0000e+00\n",
      "Epoch 38/50\n",
      "19/19 [==============================] - 1s 76ms/step - loss: 731444928.0000 - accuracy: 0.0000e+00\n",
      "Epoch 39/50\n",
      "19/19 [==============================] - 1s 75ms/step - loss: 731444864.0000 - accuracy: 0.0000e+00\n",
      "Epoch 40/50\n",
      "19/19 [==============================] - 1s 75ms/step - loss: 731444992.0000 - accuracy: 0.0000e+00\n",
      "Epoch 41/50\n",
      "19/19 [==============================] - 1s 77ms/step - loss: 731444800.0000 - accuracy: 0.0000e+00\n",
      "Epoch 42/50\n",
      "19/19 [==============================] - 1s 77ms/step - loss: 731444992.0000 - accuracy: 0.0000e+00\n",
      "Epoch 43/50\n",
      "19/19 [==============================] - 2s 83ms/step - loss: 731444800.0000 - accuracy: 0.0000e+00\n",
      "Epoch 44/50\n",
      "19/19 [==============================] - 2s 95ms/step - loss: 731444800.0000 - accuracy: 0.0000e+00\n",
      "Epoch 45/50\n",
      "19/19 [==============================] - 2s 84ms/step - loss: 731445056.0000 - accuracy: 0.0000e+00\n",
      "Epoch 46/50\n",
      "19/19 [==============================] - 2s 82ms/step - loss: 731444928.0000 - accuracy: 0.0000e+00\n",
      "Epoch 47/50\n",
      "19/19 [==============================] - 2s 83ms/step - loss: 731444928.0000 - accuracy: 0.0000e+00\n",
      "Epoch 48/50\n",
      "19/19 [==============================] - 1s 77ms/step - loss: 731444800.0000 - accuracy: 0.0000e+00\n",
      "Epoch 49/50\n",
      "19/19 [==============================] - 1s 79ms/step - loss: 731444928.0000 - accuracy: 0.0000e+00\n",
      "Epoch 50/50\n",
      "19/19 [==============================] - 1s 77ms/step - loss: 731444992.0000 - accuracy: 0.0000e+00\n"
     ]
    },
    {
     "data": {
      "text/plain": [
       "<keras.callbacks.History at 0x7f8b525dcd30>"
      ]
     },
     "execution_count": 112,
     "metadata": {},
     "output_type": "execute_result"
    }
   ],
   "source": [
    "# building the RNN\n",
    "\n",
    "# Initialising the RNN\n",
    "model = Sequential()\n",
    "\n",
    "# construct a LSTM layer with specified number of hidden units\n",
    "# per cell and desired sequence input format \n",
    "model.add(LSTM(55, input_shape=(train_X.shape[1],1),return_sequences= True))\n",
    "model.add(LSTM(45, input_shape=(train_X.shape[1],1), return_sequences= True))\n",
    "model.add(LSTM(35, input_shape=(train_X.shape[1],1), return_sequences= True))\n",
    "model.add(LSTM(25, input_shape=(train_X.shape[1],1), return_sequences= True))\n",
    "model.add(LSTM(15, input_shape=(train_X.shape[1],1), return_sequences= True))\n",
    "\n",
    "model.add(LSTM(10, input_shape=(train_X.shape[1],1)))\n",
    "\n",
    "    \n",
    "# add an output layer to make final predictions\n",
    "# we change the activation function here\n",
    "model.add(Dense(1, activation='softmax'))\n",
    "    \n",
    "# define the loss function / optimization strategy, and fit\n",
    "# the model with the desired number of passes over the data (epochs) \n",
    "model.compile( optimizer='adam', loss='mse', metrics=['accuracy'])\n",
    "\n",
    "model.fit(train_X, train_y, epochs=50, batch_size=30, verbose=1)\n"
   ]
  },
  {
   "cell_type": "code",
   "execution_count": 102,
   "id": "3374b280",
   "metadata": {},
   "outputs": [
    {
     "name": "stdout",
     "output_type": "stream",
     "text": [
      "Model: \"sequential_16\"\n",
      "_________________________________________________________________\n",
      "Layer (type)                 Output Shape              Param #   \n",
      "=================================================================\n",
      "lstm_55 (LSTM)               (None, 60, 55)            12540     \n",
      "_________________________________________________________________\n",
      "lstm_56 (LSTM)               (None, 60, 45)            18180     \n",
      "_________________________________________________________________\n",
      "lstm_57 (LSTM)               (None, 60, 35)            11340     \n",
      "_________________________________________________________________\n",
      "lstm_58 (LSTM)               (None, 60, 25)            6100      \n",
      "_________________________________________________________________\n",
      "lstm_59 (LSTM)               (None, 60, 15)            2460      \n",
      "_________________________________________________________________\n",
      "lstm_60 (LSTM)               (None, 15)                1860      \n",
      "_________________________________________________________________\n",
      "dense_14 (Dense)             (None, 1)                 16        \n",
      "=================================================================\n",
      "Total params: 52,496\n",
      "Trainable params: 52,496\n",
      "Non-trainable params: 0\n",
      "_________________________________________________________________\n"
     ]
    }
   ],
   "source": [
    "model.summary()"
   ]
  },
  {
   "cell_type": "code",
   "execution_count": 113,
   "id": "825fef10",
   "metadata": {},
   "outputs": [],
   "source": [
    "# including early stopping\n",
    "#early_stop = EarlyStopping(monitor='val_loss', mode='min', verbose=0, patience=25)\n",
    "early_stop = EarlyStopping(monitor='val_accuracy', mode='max', verbose=0, patience=25)"
   ]
  },
  {
   "cell_type": "code",
   "execution_count": 114,
   "id": "014f02d6",
   "metadata": {},
   "outputs": [],
   "source": [
    "# Fitting the RNN to the Training set\n",
    "res = model.fit(train_X, train_y\n",
    "                    , batch_size=32\n",
    "                    , epochs=100\n",
    "                    #, validation_data=(X_val,y_val)\n",
    "                    , validation_split=0.1\n",
    "                    , callbacks=[early_stop]\n",
    "                    , verbose = 0\n",
    "                   ) "
   ]
  },
  {
   "cell_type": "code",
   "execution_count": 116,
   "id": "9760261c",
   "metadata": {},
   "outputs": [
    {
     "data": {
      "text/plain": [
       "['loss', 'accuracy', 'val_loss', 'val_accuracy']"
      ]
     },
     "execution_count": 116,
     "metadata": {},
     "output_type": "execute_result"
    }
   ],
   "source": [
    "list(res.history)"
   ]
  },
  {
   "cell_type": "code",
   "execution_count": 117,
   "id": "d921349f",
   "metadata": {},
   "outputs": [
    {
     "data": {
      "image/png": "[encoded data removed]",
      "text/plain": [
       "<Figure size 864x288 with 1 Axes>"
      ]
     },
     "metadata": {
      "needs_background": "light"
     },
     "output_type": "display_data"
    },
    {
     "data": {
      "image/png": "[encoded data removed]",
      "text/plain": [
       "<Figure size 864x288 with 1 Axes>"
      ]
     },
     "metadata": {
      "needs_background": "light"
     },
     "output_type": "display_data"
    }
   ],
   "source": [
    "# Plotting Accuracy and Loss\n",
    "\n",
    "results = res\n",
    "\n",
    "history = results.history\n",
    "plt.figure(figsize=(12,4))\n",
    "plt.plot(history['val_loss'])\n",
    "plt.plot(history['loss'])\n",
    "plt.legend(['val_loss', 'loss'])\n",
    "plt.title('Loss')\n",
    "plt.xlabel('Epochs')\n",
    "plt.ylabel('Loss')\n",
    "plt.show()\n",
    "\n",
    "plt.figure(figsize=(12,4))\n",
    "plt.plot(history['val_accuracy'])\n",
    "plt.plot(history['accuracy'])\n",
    "plt.legend(['val_accuracy', 'accuracy'])\n",
    "plt.title('Accuracy')\n",
    "plt.xlabel('Epochs')\n",
    "plt.ylabel('Accuracy')\n",
    "plt.show()"
   ]
  },
  {
   "cell_type": "markdown",
   "id": "0ffac46c",
   "metadata": {},
   "source": [
    "# Sonuclar\n",
    "1. Ilk modele gore layer sayisini 6 cikardim. \n",
    "2. activation function softmax yaptim\n",
    "3. epoch sayisini 100 kadar cikardim\n",
    "4. CV de ekledim.\n",
    "5. Ayrica C. Best buying time in the past kismindan sonuc alamiyorum. Dakikalarca arka planda calisiyor ancak birsey uretmiyor. \n",
    "\n",
    "Ancak sonuc alamadim. "
   ]
  },
  {
   "cell_type": "code",
   "execution_count": null,
   "id": "23541b11",
   "metadata": {},
   "outputs": [],
   "source": []
  }
 ],
 "metadata": {
  "kernelspec": {
   "display_name": "Python 3 (ipykernel)",
   "language": "python",
   "name": "python3"
  },
  "language_info": {
   "codemirror_mode": {
    "name": "ipython",
    "version": 3
   },
   "file_extension": ".py",
   "mimetype": "text/x-python",
   "name": "python",
   "nbconvert_exporter": "python",
   "pygments_lexer": "ipython3",
   "version": "3.9.7"
  }
 },
 "nbformat": 4,
 "nbformat_minor": 5
}
